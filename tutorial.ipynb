{
 "cells": [
  {
   "cell_type": "code",
   "execution_count": 6,
   "metadata": {},
   "outputs": [
    {
     "name": "stdout",
     "output_type": "stream",
     "text": [
      "e:\\virtual_environment\\venv\\Scripts\\python.exe\n"
     ]
    }
   ],
   "source": [
    "import sys\n",
    "print(sys.executable)"
   ]
  },
  {
   "cell_type": "markdown",
   "metadata": {},
   "source": [
    "# **🏁 Giai đoạn 1: PyTorch Cơ Bản**"
   ]
  },
  {
   "cell_type": "markdown",
   "metadata": {},
   "source": [
    "**1️⃣ Tạo Tensor và Các Thao Tác Cơ Bản**"
   ]
  },
  {
   "cell_type": "code",
   "execution_count": 15,
   "metadata": {},
   "outputs": [
    {
     "name": "stdout",
     "output_type": "stream",
     "text": [
      "Tensor A:\n",
      " tensor([[1, 2],\n",
      "        [3, 4]])\n",
      "Tensor B (từ NumPy):\n",
      " tensor([[5, 6],\n",
      "        [7, 8]])\n",
      "NumPy từ Tensor A:\n",
      " [[1 2]\n",
      " [3 4]]\n"
     ]
    }
   ],
   "source": [
    "import torch\n",
    "import numpy as np\n",
    "\n",
    "# Tạo tensor từ danh sách Python\n",
    "tensor_a = torch.tensor([[1, 2], [3, 4]])\n",
    "\n",
    "# Tạo tensor từ NumPy array\n",
    "np_array = np.array([[5, 6], [7, 8]])\n",
    "tensor_b = torch.from_numpy(np_array)\n",
    "\n",
    "# Chuyển đổi tensor sang NumPy\n",
    "np_from_tensor = tensor_a.numpy()\n",
    "\n",
    "print(\"Tensor A:\\n\", tensor_a)\n",
    "print(\"Tensor B (từ NumPy):\\n\", tensor_b)\n",
    "print(\"NumPy từ Tensor A:\\n\", np_from_tensor)\n"
   ]
  },
  {
   "cell_type": "markdown",
   "metadata": {},
   "source": [
    "**2️⃣ Indexing, Slicing, Reshaping**"
   ]
  },
  {
   "cell_type": "code",
   "execution_count": 8,
   "metadata": {},
   "outputs": [
    {
     "name": "stdout",
     "output_type": "stream",
     "text": [
      "Tensor:\n",
      " tensor([[1, 2, 3],\n",
      "        [4, 5, 6],\n",
      "        [7, 8, 9]])\n",
      "Phần tử (1,1): tensor(5)\n",
      "Dòng đầu tiên:\n",
      " tensor([1, 2, 3])\n",
      "Cột đầu tiên:\n",
      " tensor([1, 4, 7])\n",
      "Reshaped Tensor:\n",
      " tensor([[1, 2, 3, 4, 5, 6, 7, 8, 9]])\n"
     ]
    }
   ],
   "source": [
    "tensor = torch.arange(1, 10).reshape(3, 3)  # Tạo tensor 3x3 từ 1 đến 9\n",
    "print(\"Tensor:\\n\", tensor)\n",
    "\n",
    "# Indexing\n",
    "print(\"Phần tử (1,1):\", tensor[1, 1])\n",
    "\n",
    "# Slicing\n",
    "print(\"Dòng đầu tiên:\\n\", tensor[0, :])\n",
    "print(\"Cột đầu tiên:\\n\", tensor[:, 0])\n",
    "\n",
    "# Reshaping\n",
    "reshaped_tensor = tensor.view(1, 9)  # Chuyển tensor thành dạng 1x9\n",
    "print(\"Reshaped Tensor:\\n\", reshaped_tensor)"
   ]
  },
  {
   "cell_type": "markdown",
   "metadata": {},
   "source": [
    "**3️⃣ Các Phép Toán Cơ Bản Trên Tensor**"
   ]
  },
  {
   "cell_type": "code",
   "execution_count": 18,
   "metadata": {},
   "outputs": [
    {
     "name": "stdout",
     "output_type": "stream",
     "text": [
      "Cộng:\n",
      " tensor([[ 6.,  8.],\n",
      "        [10., 12.]])\n",
      "Trừ:\n",
      " tensor([[-4., -4.],\n",
      "        [-4., -4.]])\n",
      "Nhân:\n",
      " tensor([[ 5., 12.],\n",
      "        [21., 32.]])\n",
      "Chia:\n",
      " tensor([[0.2000, 0.3333],\n",
      "        [0.4286, 0.5000]])\n",
      "Tích ma trận:\n",
      " tensor([[19., 22.],\n",
      "        [43., 50.]])\n"
     ]
    }
   ],
   "source": [
    "x = torch.tensor([[1., 2.], [3., 4.]])\n",
    "y = torch.tensor([[5., 6.], [7., 8.]])\n",
    "\n",
    "# Cộng, trừ, nhân, chia\n",
    "print(\"Cộng:\\n\", x + y)\n",
    "print(\"Trừ:\\n\", x - y)\n",
    "print(\"Nhân:\\n\", x * y)  # Nhân từng phần tử\n",
    "print(\"Chia:\\n\", x / y)\n",
    "\n",
    "# Tích ma trận\n",
    "matrix_mul = torch.matmul(x, y)\n",
    "print(\"Tích ma trận:\\n\", matrix_mul)"
   ]
  },
  {
   "cell_type": "markdown",
   "metadata": {},
   "source": [
    "**4️⃣ Tính Gradient và Đạo Hàm**"
   ]
  },
  {
   "cell_type": "code",
   "execution_count": null,
   "metadata": {},
   "outputs": [
    {
     "name": "stdout",
     "output_type": "stream",
     "text": [
      "No Gradient tại x=3: 16.0\n",
      "Gradient tại x=3: 32.0\n"
     ]
    }
   ],
   "source": [
    "# Khai báo tensor cần tính gradient\n",
    "x = torch.tensor(3.0, requires_grad=True)\n",
    "\n",
    "# Hàm số y = x^2 + 2x + 1\n",
    "y = x**2 + 2*x + 1\n",
    "z = y**2\n",
    "\n",
    "# Tính gradient\n",
    "z.backward()\n",
    "\n",
    "# No Gradient của y tại x=3 (y = x^2 + 2x + 1)\n",
    "with torch.no_grad():\n",
    "    print(\"No Gradient tại x=3:\", z.item())\n",
    "\n",
    "# Gradient của y tại x=3 (dy/dx = 2x + 2)\n",
    "print(\"Gradient tại x=3:\", x.grad.item())"
   ]
  },
  {
   "cell_type": "markdown",
   "metadata": {},
   "source": [
    "**5️⃣ Nhân Hai Ma Trận Bằng PyTorch**"
   ]
  },
  {
   "cell_type": "code",
   "execution_count": 28,
   "metadata": {},
   "outputs": [
    {
     "name": "stdout",
     "output_type": "stream",
     "text": [
      "Kết quả nhân ma trận:\n",
      " tensor([[ 58.,  64.],\n",
      "        [139., 154.]])\n"
     ]
    }
   ],
   "source": [
    "A = torch.tensor([[1, 2, 3], [4, 5, 6]], dtype=torch.float32)\n",
    "B = torch.tensor([[7, 8], [9, 10], [11, 12]], dtype=torch.float32)\n",
    "\n",
    "# Nhân ma trận A và B\n",
    "C = torch.mm(A, B)\n",
    "\n",
    "print(\"Kết quả nhân ma trận:\\n\", C)"
   ]
  },
  {
   "cell_type": "markdown",
   "metadata": {},
   "source": [
    "**6️⃣ Dùng GPU Tăng Tốc với CUDA**"
   ]
  },
  {
   "cell_type": "code",
   "execution_count": null,
   "metadata": {},
   "outputs": [
    {
     "name": "stdout",
     "output_type": "stream",
     "text": [
      "Sử dụng thiết bị: cpu\n"
     ]
    },
    {
     "ename": "RuntimeError",
     "evalue": "a Tensor with 3 elements cannot be converted to Scalar",
     "output_type": "error",
     "traceback": [
      "\u001b[1;31m---------------------------------------------------------------------------\u001b[0m",
      "\u001b[1;31mRuntimeError\u001b[0m                              Traceback (most recent call last)",
      "Cell \u001b[1;32mIn[35], line 7\u001b[0m\n\u001b[0;32m      5\u001b[0m \u001b[38;5;66;03m# Tạo tensor trên GPU (nếu có)\u001b[39;00m\n\u001b[0;32m      6\u001b[0m tensor_gpu \u001b[38;5;241m=\u001b[39m torch\u001b[38;5;241m.\u001b[39mtensor([\u001b[38;5;241m1.0\u001b[39m, \u001b[38;5;241m2.0\u001b[39m, \u001b[38;5;241m3.0\u001b[39m], device\u001b[38;5;241m=\u001b[39mdevice)\n\u001b[1;32m----> 7\u001b[0m \u001b[38;5;28mprint\u001b[39m(\u001b[38;5;124m\"\u001b[39m\u001b[38;5;124mTensor trên GPU:\u001b[39m\u001b[38;5;124m\"\u001b[39m, \u001b[43mtensor_gpu\u001b[49m\u001b[38;5;241;43m.\u001b[39;49m\u001b[43mitem\u001b[49m\u001b[43m(\u001b[49m\u001b[43m)\u001b[49m[\u001b[38;5;241m0\u001b[39m])\n",
      "\u001b[1;31mRuntimeError\u001b[0m: a Tensor with 3 elements cannot be converted to Scalar"
     ]
    }
   ],
   "source": [
    "# Kiểm tra nếu có GPU\n",
    "device = \"cuda\" if torch.cuda.is_available() else \"cpu\"\n",
    "print(\"Sử dụng thiết bị:\", device)\n",
    "\n",
    "# Tạo tensor trên GPU (nếu có)\n",
    "tensor_gpu = torch.tensor([1.0, 2.0, 3.0], device=device)\n",
    "print(\"Tensor trên GPU:\", tensor_gpu.item())"
   ]
  },
  {
   "cell_type": "markdown",
   "metadata": {},
   "source": [
    "# **🚀 Giai đoạn 2: PyTorch Workflow & Mô Hình Cơ Bản**"
   ]
  },
  {
   "cell_type": "code",
   "execution_count": 13,
   "metadata": {},
   "outputs": [
    {
     "data": {
      "text/plain": [
       "<matplotlib.legend.Legend at 0x22eef6a3830>"
      ]
     },
     "execution_count": 13,
     "metadata": {},
     "output_type": "execute_result"
    },
    {
     "data": {
      "image/png": "[encoded data removed]",
      "text/plain": [
       "<Figure size 640x480 with 1 Axes>"
      ]
     },
     "metadata": {},
     "output_type": "display_data"
    }
   ],
   "source": [
    "import torch\n",
    "import torch.nn as nn\n",
    "import torch.optim as optim\n",
    "import matplotlib.pyplot as plt\n",
    "from torch.utils.data import Dataset, DataLoader\n",
    "import numpy as np\n",
    "\n",
    "# Tạo dữ liệu x ngẫu nhiên từ 0 đến 10\n",
    "np.random.seed(42)\n",
    "X = np.random.rand(100, 1) * 10\n",
    "y = 3 * X + 2 + np.random.randn(100, 1) * 2  # Thêm nhiễu\n",
    "\n",
    "# Chuyển sang tensor PyTorch\n",
    "X_tensor = torch.tensor(X, dtype=torch.float32)\n",
    "y_tensor = torch.tensor(y, dtype=torch.float32)\n",
    "\n",
    "# Hiển thị dữ liệu\n",
    "plt.scatter(X, y, label=\"Dữ liệu\")\n",
    "plt.xlabel(\"x\")\n",
    "plt.ylabel(\"y\")\n",
    "plt.legend()"
   ]
  }
 ],
 "metadata": {
  "kernelspec": {
   "display_name": "Python (venv)",
   "language": "python",
   "name": "venv"
  },
  "language_info": {
   "codemirror_mode": {
    "name": "ipython",
    "version": 3
   },
   "file_extension": ".py",
   "mimetype": "text/x-python",
   "name": "python",
   "nbconvert_exporter": "python",
   "pygments_lexer": "ipython3",
   "version": "3.12.2"
  }
 },
 "nbformat": 4,
 "nbformat_minor": 2
}
