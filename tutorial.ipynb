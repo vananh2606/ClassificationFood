{
 "cells": [
  {
   "cell_type": "code",
   "execution_count": 1,
   "metadata": {},
   "outputs": [
    {
     "name": "stdout",
     "output_type": "stream",
     "text": [
      "c:\\Users\\Admin\\AppData\\Local\\Programs\\Python\\Python312\\python.exe\n"
     ]
    }
   ],
   "source": [
    "import sys\n",
    "print(sys.executable)"
   ]
  },
  {
   "cell_type": "markdown",
   "metadata": {},
   "source": [
    "# **Giai đoạn 1: Nền tảng cơ bản**"
   ]
  },
  {
   "cell_type": "markdown",
   "metadata": {},
   "source": [
    "### 1.Tensor là gì và tại sao cần học về tensor: ###\n",
    "- Tensor là cấu trúc dữ liệu cơ bản trong PyTorch, tương tự như NumPy array nhưng được tối ưu cho deep learning\n",
    "- Tensor có thể chạy trên GPU để tăng tốc độ tính toán\n",
    "- Tensor tự động tính được đạo hàm (gradient) - rất quan trọng trong quá trình huấn luyện neural network"
   ]
  },
  {
   "cell_type": "markdown",
   "metadata": {},
   "source": [
    "### 2.Các cách tạo tensor cơ bản: ###"
   ]
  },
  {
   "cell_type": "code",
   "execution_count": 2,
   "metadata": {},
   "outputs": [
    {
     "name": "stdout",
     "output_type": "stream",
     "text": [
      "tensor([[0.1175, 0.8600, 0.8945, 0.3270],\n",
      "        [0.3809, 0.9897, 0.5415, 0.7454],\n",
      "        [0.7958, 0.9694, 0.5060, 0.0181]])\n",
      "tensor([[0., 0., 0., 0.],\n",
      "        [0., 0., 0., 0.],\n",
      "        [0., 0., 0., 0.]])\n",
      "tensor([[1., 1., 1., 1.],\n",
      "        [1., 1., 1., 1.],\n",
      "        [1., 1., 1., 1.]])\n",
      "tensor([[1., 0., 0.],\n",
      "        [0., 1., 0.],\n",
      "        [0., 0., 1.]])\n",
      "tensor([0, 2, 4, 6, 8])\n",
      "tensor([0.1000, 0.2000, 0.3000, 0.4000, 0.5000, 0.6000, 0.7000, 0.8000, 0.9000,\n",
      "        1.0000])\n",
      "tensor([1, 1, 1, 1])\n",
      "tensor([0, 0, 0, 0])\n"
     ]
    }
   ],
   "source": [
    "import torch\n",
    "import numpy as np\n",
    "\n",
    "# Tạo tensor từ list\n",
    "x = torch.tensor([1, 2, 3, 4])\n",
    "\n",
    "# Tạo tensor với giá trị ngẫu nhiên\n",
    "random_tensor = torch.rand(size=(3, 4))\n",
    "print(random_tensor)\n",
    "\n",
    "# Tạo tensor toàn số 0 hoặc 1\n",
    "zeros = torch.zeros(size=(3, 4))\n",
    "ones = torch.ones(size=(3, 4))\n",
    "eye = torch.eye(3)\n",
    "print(zeros)\n",
    "print(ones)\n",
    "print(eye)\n",
    "\n",
    "# Tạo tensor với giá trị tuần tự\n",
    "range_tensor = torch.arange(start=0, end=10, step=2)\n",
    "linspace_tensor = torch.linspace(start=0.1, end=1, steps=10)\n",
    "print(range_tensor)\n",
    "print(linspace_tensor)\n",
    "\n",
    "# Tạo tensor với shape giống tensor khác\n",
    "x_ones = torch.ones_like(x)\n",
    "x_zeros = torch.zeros_like(x)\n",
    "print(x_ones)\n",
    "print(x_zeros)\n"
   ]
  },
  {
   "cell_type": "markdown",
   "metadata": {},
   "source": [
    "### 3.Các thuộc tính quan trọng của tensor: ###\n",
    "- shape: kích thước của tensor\n",
    "- dtype: kiểu dữ liệu (float32, int64,...)\n",
    "- device: tensor được lưu ở đâu (CPU hay GPU)"
   ]
  },
  {
   "cell_type": "code",
   "execution_count": 4,
   "metadata": {},
   "outputs": [
    {
     "name": "stdout",
     "output_type": "stream",
     "text": [
      "torch.Size([4])\n",
      "torch.int64\n",
      "cpu\n"
     ]
    }
   ],
   "source": [
    "# Ví dụ kiểm tra thuộc tính\n",
    "print(x.shape)      # Kích thước\n",
    "print(x.dtype)      # Kiểu dữ liệu\n",
    "print(x.device)     # Thiết bị lưu tensor"
   ]
  },
  {
   "cell_type": "markdown",
   "metadata": {},
   "source": [
    "### 4.Các phép toán tensor cơ bản: ###"
   ]
  },
  {
   "cell_type": "code",
   "execution_count": 9,
   "metadata": {},
   "outputs": [
    {
     "name": "stdout",
     "output_type": "stream",
     "text": [
      "tensor([[ 1,  2,  3,  4,  5],\n",
      "        [ 6,  7,  8,  9, 10]])\n"
     ]
    }
   ],
   "source": [
    "tensor = torch.tensor([[1, 2], [3, 4], [5, 6], [7, 8], [9, 10]])\n",
    "\n",
    "tensor1 = torch.tensor([[1, 2], [3, 4]])\n",
    "tensor2 = torch.tensor([[5, 6], [7, 8]])\n",
    "\n",
    "new_shape = (2, 5)\n",
    "\n",
    "# Phép cộng\n",
    "result = tensor1 + tensor2\n",
    "# hoặc\n",
    "result = torch.add(tensor1, tensor2)\n",
    "\n",
    "# Phép nhân ma trận\n",
    "result = torch.matmul(tensor1, tensor2)\n",
    "# hoặc\n",
    "result = tensor1 @ tensor2\n",
    "\n",
    "# Reshape tensor\n",
    "reshaped = tensor.reshape(new_shape)\n",
    "# hoặc\n",
    "reshaped = tensor.view(new_shape)\n",
    "\n",
    "print(reshaped)"
   ]
  },
  {
   "cell_type": "markdown",
   "metadata": {},
   "source": [
    "### 5.Các thao tác tensor nâng cao: ###"
   ]
  },
  {
   "cell_type": "code",
   "execution_count": 21,
   "metadata": {},
   "outputs": [
    {
     "name": "stdout",
     "output_type": "stream",
     "text": [
      "tensor([1, 2])\n",
      "tensor([[3, 4],\n",
      "        [5, 6],\n",
      "        [7, 8]])\n",
      "tensor([ 9, 10])\n",
      "tensor([[1, 2],\n",
      "        [3, 4],\n",
      "        [5, 6],\n",
      "        [7, 8]])\n",
      "tensor([[[1, 2],\n",
      "         [3, 4]],\n",
      "\n",
      "        [[5, 6],\n",
      "         [7, 8]]])\n"
     ]
    }
   ],
   "source": [
    "# Indexing\n",
    "print(tensor[0])          # Phần tử đầu tiên\n",
    "print(tensor[1:4])       # Slice tensor\n",
    "print(tensor[4])        # Phần tử thứ 5\n",
    "\n",
    "# Concatenate tensors\n",
    "concat = torch.cat([tensor1, tensor2], dim=0)\n",
    "print(concat)\n",
    "\n",
    "# Stack tensors\n",
    "stacked = torch.stack([tensor1, tensor2], dim=0)\n",
    "print(stacked)"
   ]
  },
  {
   "cell_type": "markdown",
   "metadata": {},
   "source": [
    "### 6.Chuyển đổi giữa các kiểu dữ liệu: ###"
   ]
  },
  {
   "cell_type": "code",
   "execution_count": null,
   "metadata": {},
   "outputs": [],
   "source": [
    "# Chuyển từ NumPy sang PyTorch\n",
    "numpy_array = np.array([1, 2, 3])\n",
    "torch_tensor = torch.from_numpy(numpy_array)\n",
    "\n",
    "# Chuyển từ PyTorch sang NumPy\n",
    "numpy_array = torch_tensor.numpy()"
   ]
  }
 ],
 "metadata": {
  "kernelspec": {
   "display_name": "Python (venv)",
   "language": "python",
   "name": "venv"
  },
  "language_info": {
   "codemirror_mode": {
    "name": "ipython",
    "version": 3
   },
   "file_extension": ".py",
   "mimetype": "text/x-python",
   "name": "python",
   "nbconvert_exporter": "python",
   "pygments_lexer": "ipython3",
   "version": "3.12.2"
  }
 },
 "nbformat": 4,
 "nbformat_minor": 2
}
